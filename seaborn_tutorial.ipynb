{
 "cells": [
  {
   "cell_type": "markdown",
   "id": "7c05a5b0",
   "metadata": {},
   "source": [
    "# 📘 Matplotlib Class\n",
    "This tutorial covers advanced Seaborn features that go beyond Matplotlib."
   ]
  },
  {
   "cell_type": "markdown",
   "id": "90324de6",
   "metadata": {},
   "source": [
    "### 📦 Import Required Libraries"
   ]
  },
  {
   "cell_type": "code",
   "execution_count": null,
   "id": "65eb2ab7",
   "metadata": {},
   "outputs": [],
   "source": [
    "import seaborn as sns\n",
    "import pandas as pd\n",
    "import matplotlib.pyplot as plt"
   ]
  },
  {
   "cell_type": "markdown",
   "id": "579e5232",
   "metadata": {},
   "source": [
    "### 📊 Load Sample Datasets"
   ]
  },
  {
   "cell_type": "code",
   "execution_count": null,
   "id": "c360539c",
   "metadata": {},
   "outputs": [],
   "source": [
    "tips = sns.load_dataset('tips')\n",
    "iris = sns.load_dataset('iris')\n",
    "flights = sns.load_dataset('flights')"
   ]
  },
  {
   "cell_type": "markdown",
   "id": "b41725a3",
   "metadata": {},
   "source": [
    "### 🎨 Set Theme for Plots"
   ]
  },
  {
   "cell_type": "code",
   "execution_count": null,
   "id": "ec808324",
   "metadata": {},
   "outputs": [],
   "source": [
    "sns.set_theme(style='whitegrid')"
   ]
  },
  {
   "cell_type": "markdown",
   "id": "b06931a9",
   "metadata": {},
   "source": [
    "### 📈 Distribution Plot with KDE"
   ]
  },
  {
   "cell_type": "code",
   "execution_count": null,
   "id": "f43c675a",
   "metadata": {},
   "outputs": [],
   "source": [
    "sns.histplot(tips['total_bill'], kde=True)\n",
    "plt.title('Histogram with KDE - Total Bill')\n",
    "plt.show()"
   ]
  },
  {
   "cell_type": "markdown",
   "id": "f6c0b479",
   "metadata": {},
   "source": [
    "### 📦 Boxplot - Categorical vs Numeric"
   ]
  },
  {
   "cell_type": "code",
   "execution_count": null,
   "id": "94bd1004",
   "metadata": {},
   "outputs": [],
   "source": [
    "sns.boxplot(x='day', y='total_bill', data=tips, palette='Set2')\n",
    "plt.title('Boxplot - Total Bill by Day')\n",
    "plt.show()"
   ]
  },
  {
   "cell_type": "markdown",
   "id": "2b6e5f22",
   "metadata": {},
   "source": [
    "### 🎻 Violin Plot"
   ]
  },
  {
   "cell_type": "code",
   "execution_count": null,
   "id": "c94c6662",
   "metadata": {},
   "outputs": [],
   "source": [
    "sns.violinplot(x='day', y='total_bill', hue='sex', data=tips, split=True)\n",
    "plt.title('Violin Plot - Total Bill by Day and Gender')\n",
    "plt.show()"
   ]
  },
  {
   "cell_type": "markdown",
   "id": "6fefe65c",
   "metadata": {},
   "source": [
    "### 🐝 Swarm Plot"
   ]
  },
  {
   "cell_type": "code",
   "execution_count": null,
   "id": "1609995e",
   "metadata": {},
   "outputs": [],
   "source": [
    "sns.swarmplot(x='day', y='total_bill', data=tips, hue='sex', palette='cool')\n",
    "plt.title('Swarm Plot - Total Bill Distribution')\n",
    "plt.show()"
   ]
  },
  {
   "cell_type": "markdown",
   "id": "c2611245",
   "metadata": {},
   "source": [
    "### 📊 Barplot with Estimator"
   ]
  },
  {
   "cell_type": "code",
   "execution_count": null,
   "id": "da84ccc9",
   "metadata": {},
   "outputs": [],
   "source": [
    "sns.barplot(x='day', y='tip', data=tips, ci='sd', estimator=sum)\n",
    "plt.title('Barplot - Sum of Tips by Day')\n",
    "plt.show()"
   ]
  },
  {
   "cell_type": "markdown",
   "id": "5c549245",
   "metadata": {},
   "source": [
    "### 🧮 Countplot"
   ]
  },
  {
   "cell_type": "code",
   "execution_count": null,
   "id": "e1e38023",
   "metadata": {},
   "outputs": [],
   "source": [
    "sns.countplot(x='day', hue='sex', data=tips)\n",
    "plt.title('Count of Records by Day and Gender')\n",
    "plt.show()"
   ]
  },
  {
   "cell_type": "markdown",
   "id": "59858de1",
   "metadata": {},
   "source": [
    "### 🔗 Pairplot - Multivariate Relationships"
   ]
  },
  {
   "cell_type": "code",
   "execution_count": null,
   "id": "713f9706",
   "metadata": {},
   "outputs": [],
   "source": [
    "sns.pairplot(iris, hue='species', corner=True)\n",
    "plt.suptitle('Pairplot - Iris Dataset', y=1.02)\n",
    "plt.show()"
   ]
  },
  {
   "cell_type": "markdown",
   "id": "a2f8bb96",
   "metadata": {},
   "source": [
    "### 🔍 Jointplot - Bivariate Distribution"
   ]
  },
  {
   "cell_type": "code",
   "execution_count": null,
   "id": "c08ab671",
   "metadata": {},
   "outputs": [],
   "source": [
    "sns.jointplot(x='total_bill', y='tip', data=tips, kind='hex')\n",
    "plt.suptitle('Jointplot - Hexbin of Total Bill vs Tip', y=1.05)\n",
    "plt.show()"
   ]
  },
  {
   "cell_type": "markdown",
   "id": "13d5e205",
   "metadata": {},
   "source": [
    "### 🔥 Correlation Heatmap"
   ]
  },
  {
   "cell_type": "code",
   "execution_count": null,
   "id": "51d6f838",
   "metadata": {},
   "outputs": [],
   "source": [
    "corr = tips.corr()\n",
    "sns.heatmap(corr, annot=True, cmap='coolwarm', fmt='.2f')\n",
    "plt.title('Correlation Heatmap - Tips Dataset')\n",
    "plt.show()"
   ]
  },
  {
   "cell_type": "markdown",
   "id": "d5ca8dde",
   "metadata": {},
   "source": [
    "### 🧩 FacetGrid"
   ]
  },
  {
   "cell_type": "code",
   "execution_count": null,
   "id": "809bb0fe",
   "metadata": {},
   "outputs": [],
   "source": [
    "g = sns.FacetGrid(tips, col='sex', row='time')\n",
    "g.map(sns.histplot, 'total_bill', kde=True)\n",
    "g.fig.suptitle('FacetGrid - Total Bill by Time and Gender', y=1.05)\n",
    "plt.show()"
   ]
  },
  {
   "cell_type": "markdown",
   "id": "c64134b7",
   "metadata": {},
   "source": [
    "### 📅 Time Series Heatmap"
   ]
  },
  {
   "cell_type": "code",
   "execution_count": null,
   "id": "b4ea1e9f",
   "metadata": {},
   "outputs": [],
   "source": [
    "flights_pivot = flights.pivot('month', 'year', 'passengers')\n",
    "sns.heatmap(flights_pivot, annot=True, fmt='d', cmap='YlGnBu')\n",
    "plt.title('Flight Passengers Heatmap')\n",
    "plt.show()"
   ]
  },
  {
   "cell_type": "markdown",
   "id": "1fb77aea",
   "metadata": {},
   "source": [
    "### ⚙️ Matplotlib Customization with Seaborn"
   ]
  },
  {
   "cell_type": "code",
   "execution_count": null,
   "id": "fde9228c",
   "metadata": {},
   "outputs": [],
   "source": [
    "ax = sns.boxplot(x='day', y='total_bill', data=tips)\n",
    "ax.set_title('Custom Boxplot')\n",
    "ax.set_xlabel('Day of Week')\n",
    "ax.set_ylabel('Bill Amount ($)')\n",
    "plt.tight_layout()\n",
    "plt.show()"
   ]
  }
 ],
 "metadata": {},
 "nbformat": 4,
 "nbformat_minor": 5
}
