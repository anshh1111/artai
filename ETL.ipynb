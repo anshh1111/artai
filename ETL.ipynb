{
 "cells": [
  {
   "cell_type": "code",
   "execution_count": 10,
   "id": "1fb6ac69",
   "metadata": {},
   "outputs": [
    {
     "name": "stdout",
     "output_type": "stream",
     "text": [
      "Connection to the MySQL database established successfully.\n",
      "Connection closed.\n"
     ]
    }
   ],
   "source": [
    "# Import necessary library\n",
    "import pymysql\n",
    "\n",
    "# MySQL connection details\n",
    "connection_details = {\n",
    "    'host': 'localhost',\n",
    "    'user': 'root',\n",
    "    'password': '98919891',\n",
    "    'database': 'health'\n",
    "}\n",
    "\n",
    "try:\n",
    "    # Attempt to establish a connection\n",
    "    connection = pymysql.connect(\n",
    "        host=connection_details['host'],\n",
    "        user=connection_details['user'],\n",
    "        password=connection_details['password'],\n",
    "        database=connection_details['database']\n",
    "    )\n",
    "    print(\"Connection to the MySQL database established successfully.\")\n",
    "except pymysql.MySQLError as e:\n",
    "    print(\"Failed to connect to the database.\")\n",
    "    print(f\"Error: {e}\")\n",
    "finally:\n",
    "    # Close the connection\n",
    "    if 'connection' in locals() and connection.open:\n",
    "        connection.close()\n",
    "        print(\"Connection closed.\")\n"
   ]
  },
  {
   "cell_type": "code",
   "execution_count": null,
   "id": "942fb774",
   "metadata": {},
   "outputs": [],
   "source": []
  },
  {
   "cell_type": "code",
   "execution_count": null,
   "id": "3f895c74",
   "metadata": {},
   "outputs": [],
   "source": []
  },
  {
   "cell_type": "code",
   "execution_count": 12,
   "id": "67d46401",
   "metadata": {},
   "outputs": [
    {
     "name": "stdout",
     "output_type": "stream",
     "text": [
      "Connection to the MySQL database established successfully.\n",
      "(1, 1, datetime.date(2024, 4, 5), 'Dr. Sarah Lee', 'Routine Check-up', 'Patient managing well, continue current medication')\n",
      "(2, 2, datetime.date(2024, 4, 3), 'Dr. Mike Brown', 'Routine Check-up', 'Adjust insulin dosage')\n",
      "(3, 3, datetime.date(2024, 4, 10), 'Dr. Sarah Lee', 'Follow-up', 'Check blood pressure and adjust medication')\n",
      "(4, 4, datetime.date(2024, 3, 29), 'Dr. Emily Clark', 'Routine Check-up', 'Recommend dietary changes')\n",
      "(5, 5, datetime.date(2024, 4, 15), 'Dr. Mike Brown', 'Emergency', 'Hypoglycemic event, provided treatment')\n",
      "(6, 6, datetime.date(2024, 4, 8), 'Dr. Sarah Lee', 'Follow-up', 'Good progress, keep up with the exercise')\n",
      "(7, 7, datetime.date(2024, 4, 12), 'Dr. Emily Clark', 'Routine Check-up', 'Adjust medication, monitor closely')\n",
      "(8, 8, datetime.date(2024, 3, 25), 'Dr. Mike Brown', 'Routine Check-up', 'Stable condition, continue treatment')\n",
      "(9, 9, datetime.date(2024, 4, 20), 'Dr. Sarah Lee', 'Follow-up', 'Gestational diabetes management')\n",
      "(10, 10, datetime.date(2024, 4, 18), 'Dr. Emily Clark', 'Routine Check-up', 'Encouraged weight management')\n",
      "(11, 1, datetime.date(2024, 5, 5), 'Dr. Sarah Lee', 'Follow-up', 'Continue with current plan, next checkup in 3 months')\n",
      "(12, 2, datetime.date(2024, 5, 3), 'Dr. Mike Brown', 'Emergency', 'Advised hospital visit for further tests')\n",
      "(13, 3, datetime.date(2024, 5, 10), 'Dr. Sarah Lee', 'Routine Check-up', 'Stable HbA1c, review in 6 months')\n",
      "(14, 5, datetime.date(2024, 5, 15), 'Dr. Mike Brown', 'Follow-up', 'Positive response to new insulin')\n",
      "(15, 7, datetime.date(2024, 5, 12), 'Dr. Emily Clark', 'Routine Check-up', 'Continue monitoring glucose levels')\n",
      "Connection closed.\n"
     ]
    }
   ],
   "source": [
    "import pymysql\n",
    "\n",
    "# MySQL connection details\n",
    "connection_details = {\n",
    "    'host': 'localhost',\n",
    "    'user': 'root',\n",
    "    'password': '98919891',\n",
    "    'database': 'health'\n",
    "}\n",
    "\n",
    "try:\n",
    "    # Establish connection\n",
    "    connection = pymysql.connect(\n",
    "        host=connection_details['host'],\n",
    "        user=connection_details['user'],\n",
    "        password=connection_details['password'],\n",
    "        database=connection_details['database']\n",
    "    )\n",
    "    print(\"Connection to the MySQL database established successfully.\")\n",
    "\n",
    "    # Create a cursor object to execute SQL queries\n",
    "    cursor = connection.cursor()\n",
    "\n",
    "    # Example: Select all rows from a table named 'patients'\n",
    "    cursor.execute(\"SELECT * FROM patients\")\n",
    "\n",
    "    # Fetch all results\n",
    "    rows = cursor.fetchall()\n",
    "\n",
    "    # Print the results (rows)\n",
    "    for row in rows:\n",
    "        print(row)\n",
    "\n",
    "except pymysql.MySQLError as e:\n",
    "    print(\"Failed to connect to the database.\")\n",
    "    print(f\"Error: {e}\")\n",
    "finally:\n",
    "    # Close the connection\n",
    "    if 'connection' in locals() and connection.open:\n",
    "        connection.close()\n",
    "        print(\"Connection closed.\")\n"
   ]
  },
  {
   "cell_type": "code",
   "execution_count": null,
   "id": "eb15a887",
   "metadata": {},
   "outputs": [],
   "source": []
  },
  {
   "cell_type": "code",
   "execution_count": 13,
   "id": "8231115c",
   "metadata": {},
   "outputs": [
    {
     "name": "stdout",
     "output_type": "stream",
     "text": [
      "Extracted Data:\n",
      "   Order_ID Customer_Name  Order_Amount  Order_Date\n",
      "0         1         Alice         200.0  2023-12-01\n",
      "1         2           Bob         150.0  2023-12-02\n",
      "2         3       Charlie           NaN  2023-12-03\n",
      "3         4          None         400.0        None\n",
      "4         5           Eve         300.0  2023-12-05\n",
      "\n",
      "Transformed Data:\n",
      "   Order_ID Customer_Name  Order_Amount Order_Date\n",
      "0         1         Alice         200.0 2023-12-01\n",
      "1         2           Bob         150.0 2023-12-02\n",
      "2         3       Charlie         262.5 2023-12-03\n",
      "4         5           Eve         300.0 2023-12-05\n",
      "\n",
      "Loaded Data:\n",
      "   Order_ID Customer_Name  Order_Amount Order_Date\n",
      "0         1         Alice         200.0 2023-12-01\n",
      "1         2           Bob         150.0 2023-12-02\n",
      "2         3       Charlie         262.5 2023-12-03\n",
      "3         5           Eve         300.0 2023-12-05\n"
     ]
    }
   ],
   "source": [
    "import pandas as pd\n",
    "import numpy as np\n",
    "from sqlalchemy import create_engine\n",
    "\n",
    "# MySQL connection details (use your existing connection details here)\n",
    "connection_details = {\n",
    "    'host': 'localhost',\n",
    "    'user': 'root',\n",
    "    'password': '98919891',\n",
    "    'database': 'health'\n",
    "}\n",
    "\n",
    "# Create engine with MySQL connection string\n",
    "engine = create_engine(f'mysql+pymysql://{connection_details[\"user\"]}:{connection_details[\"password\"]}@{connection_details[\"host\"]}/{connection_details[\"database\"]}')\n",
    "\n",
    "# Extract: Simulate data retrieval\n",
    "data = {\n",
    "    'Order_ID': [1, 2, 3, 4, 5],\n",
    "    'Customer_Name': ['Alice', 'Bob', 'Charlie', None, 'Eve'],\n",
    "    'Order_Amount': [200, 150, np.nan, 400, 300],\n",
    "    'Order_Date': ['2023-12-01', '2023-12-02', '2023-12-03', None, '2023-12-05']\n",
    "}\n",
    "df = pd.DataFrame(data)\n",
    "\n",
    "print(\"Extracted Data:\")\n",
    "print(df)\n",
    "\n",
    "# Transform: Clean data\n",
    "df['Customer_Name'] = df['Customer_Name'].fillna('Unknown')  # Handle missing customer names\n",
    "df['Order_Amount'] = df['Order_Amount'].fillna(df['Order_Amount'].mean())  # Impute missing amounts\n",
    "df['Order_Date'] = pd.to_datetime(df['Order_Date'], errors='coerce')  # Convert to datetime\n",
    "df.dropna(subset=['Order_Date'], inplace=True)  # Remove rows with missing dates\n",
    "\n",
    "print(\"\\nTransformed Data:\")\n",
    "print(df)\n",
    "\n",
    "# Load: Save to a MySQL database\n",
    "df.to_sql('ecommerce_data', con=engine, index=False, if_exists='replace')\n",
    "\n",
    "# Verify data in database\n",
    "loaded_data = pd.read_sql('SELECT * FROM ecommerce_data', con=engine)\n",
    "print(\"\\nLoaded Data:\")\n",
    "print(loaded_data)\n"
   ]
  },
  {
   "cell_type": "code",
   "execution_count": null,
   "id": "92e966a3",
   "metadata": {},
   "outputs": [],
   "source": []
  }
 ],
 "metadata": {
  "kernelspec": {
   "display_name": "Python 3 (ipykernel)",
   "language": "python",
   "name": "python3"
  },
  "language_info": {
   "codemirror_mode": {
    "name": "ipython",
    "version": 3
   },
   "file_extension": ".py",
   "mimetype": "text/x-python",
   "name": "python",
   "nbconvert_exporter": "python",
   "pygments_lexer": "ipython3",
   "version": "3.9.13"
  }
 },
 "nbformat": 4,
 "nbformat_minor": 5
}
